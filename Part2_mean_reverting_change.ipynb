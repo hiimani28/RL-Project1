{
 "cells": [
  {
   "cell_type": "code",
   "execution_count": 44,
   "metadata": {
    "id": "4v2p0lzKxH_F"
   },
   "outputs": [],
   "source": [
    "import random\n",
    "import numpy as np\n",
    "import matplotlib.pyplot as plt\n",
    "import seaborn as sns\n",
    "import pandas as pd"
   ]
  },
  {
   "cell_type": "markdown",
   "metadata": {
    "id": "50VtgK9Fw6LM"
   },
   "source": [
    "# Part - 2\n"
   ]
  },
  {
   "cell_type": "markdown",
   "metadata": {
    "id": "_MGbdPoTBJQy"
   },
   "source": [
    "### 2.1(a) Mean-reverting change - using optimistic greedy method "
   ]
  },
  {
   "cell_type": "code",
   "execution_count": 45,
   "metadata": {
    "id": "MlebIIZjw5R5"
   },
   "outputs": [],
   "source": [
    "def mean_reverting_optimistic_greedy(steps, bandit_problems, n_actions, testbed, global_reward_list, global_optimal_action_list):\n",
    "    action_count = np.zeros((bandit_problems, n_actions))\n",
    "    reward_estimates = np.ones((bandit_problems, n_actions)) * 5  # initial optimistic reward estimates \n",
    "    avg_rewards_per_step = []\n",
    "    optimal_action_count = np.zeros(steps)\n",
    "    terminal_rewards = np.zeros(bandit_problems)  # Initialize terminal rewards array\n",
    "\n",
    "    for step in range(steps):\n",
    "        reward_sum_over_all_bandits_per_step = 0\n",
    "        optimal_action_chosen_count = 0\n",
    "\n",
    "        for problem_index in range(bandit_problems):\n",
    "            maxval = np.amax(reward_estimates[problem_index])  # Find the maximum value of the reward for that problem.\n",
    "            maxval_indices = np.ravel(np.where(reward_estimates[problem_index] == maxval))  # Get the index of that reward in the problem\n",
    "            random_choice = np.random.choice(maxval_indices)  # Randomly select one index from the list of indices with the highest estimated reward.\n",
    "\n",
    "            # Generate reward\n",
    "            Rn = np.random.normal(testbed[problem_index][random_choice], 1)\n",
    "            action_count[problem_index][random_choice] += 1\n",
    "            n = action_count[problem_index][random_choice]\n",
    "\n",
    "            # Update reward estimate\n",
    "            reward_estimates[problem_index][random_choice] = reward_estimates[problem_index][random_choice] + (Rn - reward_estimates[problem_index][random_choice]) / n\n",
    "\n",
    "            reward_sum_over_all_bandits_per_step += Rn\n",
    "\n",
    "            # Store terminal rewards\n",
    "            if step == steps - 1:\n",
    "                terminal_rewards[problem_index] = Rn\n",
    "\n",
    "            # Check if the optimal action was chosen\n",
    "            optimal_action = np.argmax(testbed[problem_index])\n",
    "            if random_choice == optimal_action:\n",
    "                optimal_action_chosen_count += 1\n",
    "                \n",
    "        #Apply mean-reverting change        \n",
    "        testbed = 0.5*testbed + np.random.normal(0, 0.001, testbed.shape)  \n",
    "        #Add the average reward in each step to the array\n",
    "        avg_rewards_per_step.append(reward_sum_over_all_bandits_per_step / bandit_problems)\n",
    "        optimal_action_count[step] = optimal_action_chosen_count / bandit_problems\n",
    "\n",
    "    global_reward_list.append(avg_rewards_per_step)\n",
    "    global_optimal_action_list.append(optimal_action_count)\n",
    "    return terminal_rewards\n"
   ]
  },
  {
   "cell_type": "markdown",
   "metadata": {
    "id": "JRQcSCphBL2z"
   },
   "source": [
    "### 2.2(b) Mean-reverting change - using epsilon-greedy with fixed step_size"
   ]
  },
  {
   "cell_type": "code",
   "execution_count": 46,
   "metadata": {
    "id": "DOmlS8SPy440"
   },
   "outputs": [],
   "source": [
    "def mean_reverting_epsilon_fixed_step(steps, bandit_problems, n_actions, testbed, epsilon):\n",
    "    action_count = np.ones((bandit_problems, n_actions))\n",
    "    reward_estimates = np.zeros((bandit_problems, n_actions))  # initial reward estimates set to zero\n",
    "    avg_rewards_per_step = []\n",
    "    optimal_action_count = np.zeros(steps)\n",
    "    terminal_rewards = np.zeros(bandit_problems)  # Initialize terminal rewards array\n",
    "    step_size = 0.1 #fixed step_size \n",
    "\n",
    "    for step in range(steps):\n",
    "        reward_sum_over_all_bandits_per_step = 0\n",
    "        optimal_action_chosen_count = 0\n",
    "\n",
    "        for problem_index in range(bandit_problems):\n",
    "            #Genarte a random number\n",
    "            var_random = random.random()\n",
    "            # Choose Greedy action if the random value is bigger than epsilon\n",
    "            if var_random > epsilon:\n",
    "                maxval = np.amax(reward_estimates[problem_index])  # Find the maximum value of the reward for that problem\n",
    "                maxval_indices = np.ravel(np.where(reward_estimates[problem_index] == maxval))  # Get the index of that reward in the problem\n",
    "                random_choice = np.random.choice(maxval_indices)  # Randomly select one index from the list of indices with the highest estimated reward\n",
    "            # Choose a random action from all the actions    \n",
    "            else:\n",
    "                random_choice = np.random.randint(n_actions)\n",
    "\n",
    "            # Generate reward from the testbed\n",
    "            Rn = np.random.normal(testbed[problem_index][random_choice], 1)\n",
    "            action_count[problem_index][random_choice] += 1\n",
    "            n = action_count[problem_index][random_choice]\n",
    "\n",
    "            # Update reward estimate\n",
    "            reward_estimates[problem_index][random_choice] = reward_estimates[problem_index][random_choice] + step_size * (Rn - reward_estimates[problem_index][random_choice]) \n",
    "\n",
    "            reward_sum_over_all_bandits_per_step += Rn\n",
    "\n",
    "            # Store terminal rewards\n",
    "            if step == steps - 1:\n",
    "                terminal_rewards[problem_index] = Rn\n",
    "\n",
    "            # Check if the optimal action was taken\n",
    "            optimal_action = np.argmax(testbed[problem_index])\n",
    "            if random_choice == optimal_action:\n",
    "                optimal_action_chosen_count += 1\n",
    "\n",
    "        #Apply mean-reverting change\n",
    "        testbed = 0.5*testbed + np.random.normal(0, 0.001, testbed.shape)  \n",
    "        #Add the average reward in each step to the array\n",
    "        avg_rewards_per_step.append(reward_sum_over_all_bandits_per_step / bandit_problems)\n",
    "        optimal_action_count[step] = optimal_action_chosen_count / bandit_problems\n",
    "\n",
    "    return avg_rewards_per_step, optimal_action_count, terminal_rewards\n",
    "\n"
   ]
  },
  {
   "cell_type": "markdown",
   "metadata": {
    "id": "3uk3WrTe2LLv"
   },
   "source": [
    "### 2.3(c) Mean-reverting change - using epsilon-greedy with a decreasing step_size"
   ]
  },
  {
   "cell_type": "code",
   "execution_count": 47,
   "metadata": {
    "id": "rs6THpi92Rsn"
   },
   "outputs": [],
   "source": [
    "def mean_reverting_epsilon_decreasing_step(steps, bandit_problems, n_actions, testbed, epsilon):\n",
    "    action_count = np.ones((bandit_problems, n_actions))\n",
    "    reward_estimates = np.zeros((bandit_problems, n_actions))  # initial reward estimates set to zero\n",
    "    avg_rewards_per_step = []\n",
    "    optimal_action_count = np.zeros(steps)\n",
    "    terminal_rewards = np.zeros(bandit_problems)  # Initialize terminal rewards array\n",
    "\n",
    "    for step in range(steps):\n",
    "        reward_sum_over_all_bandits_per_step = 0\n",
    "        optimal_action_chosen_count = 0\n",
    "        \n",
    "\n",
    "        for problem_index in range(bandit_problems):\n",
    "            var_random = random.random()\n",
    "            if var_random > epsilon:\n",
    "                maxval = np.amax(reward_estimates[problem_index])  # Find the maximum value of the reward for that problem.\n",
    "                maxval_indices = np.ravel(np.where(reward_estimates[problem_index] == maxval))  # Get the index of that reward in the problem\n",
    "                random_choice = np.random.choice(maxval_indices)  # Randomly select one index from the list of indices with the highest estimated reward.\n",
    "            else:\n",
    "                random_choice = np.random.randint(n_actions)\n",
    "\n",
    "            # Generate reward from the testbed\n",
    "            Rn = np.random.normal(testbed[problem_index][random_choice], 1)\n",
    "            action_count[problem_index][random_choice] += 1\n",
    "            n = action_count[problem_index][random_choice]\n",
    "            \n",
    "            #Decrease the stepsize \n",
    "            step_size = 1/n \n",
    "\n",
    "            # Update reward estimate\n",
    "            reward_estimates[problem_index][random_choice] = reward_estimates[problem_index][random_choice] + step_size * (Rn - reward_estimates[problem_index][random_choice]) / n\n",
    "\n",
    "            reward_sum_over_all_bandits_per_step += Rn\n",
    "\n",
    "            # Store terminal rewards\n",
    "            if step == steps - 1:\n",
    "                terminal_rewards[problem_index] = Rn\n",
    "\n",
    "            # Check if the optimal action was taken\n",
    "            optimal_action = np.argmax(testbed[problem_index])\n",
    "            if random_choice == optimal_action:\n",
    "                optimal_action_chosen_count += 1\n",
    "                \n",
    "        #Apply mean-reverting change\n",
    "        testbed = 0.5*testbed + np.random.normal(0, 0.001, testbed.shape)\n",
    "        #Add the average reward in each step to the array\n",
    "        avg_rewards_per_step.append(reward_sum_over_all_bandits_per_step / bandit_problems)\n",
    "        optimal_action_count[step] = optimal_action_chosen_count / bandit_problems\n",
    "\n",
    "    return avg_rewards_per_step, optimal_action_count, terminal_rewards\n",
    "\n"
   ]
  },
  {
   "cell_type": "markdown",
   "metadata": {
    "id": "80a688KJBBq8"
   },
   "source": [
    "### Visualization mean-reverting change using box-plot"
   ]
  },
  {
   "cell_type": "code",
   "execution_count": 48,
   "metadata": {
    "colab": {
     "base_uri": "https://localhost:8080/",
     "height": 579
    },
    "id": "thTKwYPI5woR",
    "outputId": "21b4470d-c626-4267-a0b5-ce3d63ab255f"
   },
   "outputs": [
    {
     "data": {
      "image/png": "[encoded data removed]",
      "text/plain": [
       "<Figure size 1000x800 with 1 Axes>"
      ]
     },
     "metadata": {},
     "output_type": "display_data"
    }
   ],
   "source": [
    "steps = 10000\n",
    "bandit_problems = 1000\n",
    "n_actions = 10\n",
    "# Testbed: 1000 sets of ten mean parameters\n",
    "testbed = np.random.normal(0, 1, (bandit_problems, n_actions))\n",
    "global_reward_list = []\n",
    "global_optimal_action_list = []\n",
    "\n",
    "\n",
    "terminal_greedy=mean_reverting_optimistic_greedy(steps, bandit_problems, n_actions, testbed, global_reward_list, global_optimal_action_list)\n",
    "# Average reward at each time step\n",
    "average_reward_across_runs = np.mean(global_reward_list, axis=0)\n",
    "# Percentage of time the optimal action is taken\n",
    "optimal_action_percentage = np.mean(global_optimal_action_list, axis=0) * 100\n",
    "\n",
    "epsilon = 0.1\n",
    "# Testbed: 1000 sets of ten mean parameters\n",
    "testbed = np.random.normal(0, 1, (bandit_problems, n_actions))\n",
    "# calling the function for fixed step epsilon greedt\n",
    "avg_rewards_per_step, optimal_action_count, terminal_rewards_fixed = mean_reverting_epsilon_fixed_step(steps, bandit_problems, n_actions, testbed, epsilon)\n",
    "average_reward_across_runs = np.mean([avg_rewards_per_step], axis=0)\n",
    "avg_rewards_fixed_epsilon = average_reward_across_runs # for box plot\n",
    "\n",
    "optimal_action_percentage = np.mean([optimal_action_count], axis=0) * 100\n",
    "\n",
    "# Testbed: 1000 sets of ten mean parameters\n",
    "testbed = np.random.normal(0, 1, (bandit_problems, n_actions))\n",
    "\n",
    "all_avg_rewards = [terminal_greedy, terminal_rewards_fixed, terminal_rewards_decreasing]\n",
    "\n",
    "methods = ['Optimistic Greedy', 'Epsilon with \\n fixed step size', 'Epsilon with \\n decreasing step size']\n",
    "data = []\n",
    "\n",
    "for i, method in enumerate(methods):\n",
    "    for reward in all_avg_rewards[i]:\n",
    "        data.append((method, reward))\n",
    "\n",
    "df = pd.DataFrame(data, columns=['Method', 'Reward'])\n",
    "\n",
    "plt.figure(figsize=(10, 8))\n",
    "sns.boxplot(x='Method', y='Reward', data=df, palette='Set2')\n",
    "\n",
    "# Customizations\n",
    "plt.title('Rewards at terminal step for different methods - Mean Reverting Change', fontsize=16)\n",
    "# plt.xlabel('Methods', fontsize=14)\n",
    "plt.ylabel('Reward', fontsize=14)\n",
    "plt.xticks(fontsize=12)\n",
    "plt.yticks(fontsize=12)\n",
    "plt.grid(True)\n",
    "\n",
    "plt.show()"
   ]
  },
  {
   "cell_type": "code",
   "execution_count": 49,
   "metadata": {},
   "outputs": [
    {
     "data": {
      "text/html": [
       "<div>\n",
       "<style scoped>\n",
       "    .dataframe tbody tr th:only-of-type {\n",
       "        vertical-align: middle;\n",
       "    }\n",
       "\n",
       "    .dataframe tbody tr th {\n",
       "        vertical-align: top;\n",
       "    }\n",
       "\n",
       "    .dataframe thead th {\n",
       "        text-align: right;\n",
       "    }\n",
       "</style>\n",
       "<table border=\"1\" class=\"dataframe\">\n",
       "  <thead>\n",
       "    <tr style=\"text-align: right;\">\n",
       "      <th></th>\n",
       "      <th>Reward</th>\n",
       "    </tr>\n",
       "    <tr>\n",
       "      <th>Method</th>\n",
       "      <th></th>\n",
       "    </tr>\n",
       "  </thead>\n",
       "  <tbody>\n",
       "    <tr>\n",
       "      <th>Epsilon with \\n decreasing step size</th>\n",
       "      <td>0.017360</td>\n",
       "    </tr>\n",
       "    <tr>\n",
       "      <th>Epsilon with \\n fixed step size</th>\n",
       "      <td>0.014586</td>\n",
       "    </tr>\n",
       "    <tr>\n",
       "      <th>Optimistic Greedy</th>\n",
       "      <td>-0.021509</td>\n",
       "    </tr>\n",
       "  </tbody>\n",
       "</table>\n",
       "</div>"
      ],
      "text/plain": [
       "                                        Reward\n",
       "Method                                        \n",
       "Epsilon with \\n decreasing step size  0.017360\n",
       "Epsilon with \\n fixed step size       0.014586\n",
       "Optimistic Greedy                    -0.021509"
      ]
     },
     "execution_count": 49,
     "metadata": {},
     "output_type": "execute_result"
    }
   ],
   "source": [
    "mean_reverting_avg_performance = df.groupby('Method').mean()\n",
    "mean_reverting_avg_performance"
   ]
  }
 ],
 "metadata": {
  "colab": {
   "provenance": []
  },
  "kernelspec": {
   "display_name": "Python 3 (ipykernel)",
   "language": "python",
   "name": "python3"
  },
  "language_info": {
   "codemirror_mode": {
    "name": "ipython",
    "version": 3
   },
   "file_extension": ".py",
   "mimetype": "text/x-python",
   "name": "python",
   "nbconvert_exporter": "python",
   "pygments_lexer": "ipython3",
   "version": "3.11.5"
  }
 },
 "nbformat": 4,
 "nbformat_minor": 1
}
