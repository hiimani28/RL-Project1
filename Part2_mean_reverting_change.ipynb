{
 "cells": [
  {
   "cell_type": "code",
   "execution_count": 10,
   "metadata": {
    "id": "4v2p0lzKxH_F"
   },
   "outputs": [],
   "source": [
    "import random\n",
    "import numpy as np\n",
    "import matplotlib.pyplot as plt\n",
    "import seaborn as sns"
   ]
  },
  {
   "cell_type": "markdown",
   "metadata": {
    "id": "50VtgK9Fw6LM"
   },
   "source": [
    "# Part - 2\n"
   ]
  },
  {
   "cell_type": "markdown",
   "metadata": {
    "id": "_MGbdPoTBJQy"
   },
   "source": [
    "### Using Incremental Greedy"
   ]
  },
  {
   "cell_type": "code",
   "execution_count": 11,
   "metadata": {
    "id": "MlebIIZjw5R5"
   },
   "outputs": [],
   "source": [
    "import numpy as np\n",
    "import matplotlib.pyplot as plt\n",
    "\n",
    "def mean_reverting_greedy(steps, bandit_problems, n_actions, testbed, global_reward_list, global_optimal_action_list):\n",
    "    action_count = np.zeros((bandit_problems, n_actions))\n",
    "    reward_estimates = np.zeros((bandit_problems, n_actions))  # initial reward estimates set to zero\n",
    "    avg_rewards_per_step = []\n",
    "    optimal_action_count = np.zeros(steps)\n",
    "    terminal_rewards = np.zeros(bandit_problems)  # Initialize terminal rewards array\n",
    "\n",
    "    for step in range(steps):\n",
    "        reward_sum_over_all_bandits_per_step = 0\n",
    "        optimal_action_chosen_count = 0\n",
    "\n",
    "        for problem_index in range(bandit_problems):\n",
    "            maxval = np.amax(reward_estimates[problem_index])  # Find the maximum value of the reward for that problem.\n",
    "            maxval_indices = np.ravel(np.where(reward_estimates[problem_index] == maxval))  # Get the index of that reward in the problem\n",
    "            random_choice = np.random.choice(maxval_indices)  # Randomly select one index from the list of indices with the highest estimated reward.\n",
    "\n",
    "            # Generate reward\n",
    "            Rn = np.random.normal(testbed[problem_index][random_choice], 1)\n",
    "            action_count[problem_index][random_choice] += 1\n",
    "            n = action_count[problem_index][random_choice]\n",
    "\n",
    "            # Update reward estimate using the incremental implementation of the simple average method\n",
    "            reward_estimates[problem_index][random_choice] += (Rn - reward_estimates[problem_index][random_choice]) / n\n",
    "\n",
    "            reward_sum_over_all_bandits_per_step += Rn\n",
    "\n",
    "            # Store terminal rewards\n",
    "            if step == steps - 1:\n",
    "                terminal_rewards[problem_index] = Rn\n",
    "\n",
    "            # Check if the optimal action was chosen\n",
    "            optimal_action = np.argmax(testbed[problem_index])\n",
    "            if random_choice == optimal_action:\n",
    "                optimal_action_chosen_count += 1\n",
    "                \n",
    "        testbed = 0.5*testbed + np.random.normal(0, 0.001, testbed.shape)  # mean_reverting_greedy\n",
    "        avg_rewards_per_step.append(reward_sum_over_all_bandits_per_step / bandit_problems)\n",
    "        optimal_action_count[step] = optimal_action_chosen_count / bandit_problems\n",
    "\n",
    "    global_reward_list.append(avg_rewards_per_step)\n",
    "    global_optimal_action_list.append(optimal_action_count)\n",
    "    return terminal_rewards\n"
   ]
  },
  {
   "cell_type": "markdown",
   "metadata": {
    "id": "JRQcSCphBL2z"
   },
   "source": [
    "### Fixed epsilon"
   ]
  },
  {
   "cell_type": "code",
   "execution_count": 12,
   "metadata": {
    "id": "DOmlS8SPy440"
   },
   "outputs": [],
   "source": [
    "\n",
    "import numpy as np\n",
    "import random\n",
    "import matplotlib.pyplot as plt\n",
    "import itertools\n",
    "\n",
    "def fixed_epsilon_mean_reverting(steps, bandit_problems, n_actions, testbed, epsilon):\n",
    "    action_count = np.ones((bandit_problems, n_actions))\n",
    "    reward_estimates = np.zeros((bandit_problems, n_actions))  # initial reward estimates set to zero\n",
    "    avg_rewards_per_step = []\n",
    "    optimal_action_count = np.zeros(steps)\n",
    "    terminal_rewards = np.zeros(bandit_problems)  # Initialize terminal rewards array\n",
    "\n",
    "    for step in range(steps):\n",
    "        reward_sum_over_all_bandits_per_step = 0\n",
    "        optimal_action_chosen_count = 0\n",
    "        testbed = 0.5*testbed + np.random.normal(0, 0.001, testbed.shape) # mean reverting change. Will reduce for every new step\n",
    "\n",
    "        for problem_index in range(bandit_problems):\n",
    "            var_random = random.random()\n",
    "            if var_random > epsilon:\n",
    "                maxval = np.amax(reward_estimates[problem_index])  # Find the maximum value of the reward for that problem.\n",
    "                maxval_indices = np.ravel(np.where(reward_estimates[problem_index] == maxval))  # Get the index of that reward in the problem\n",
    "                random_choice = np.random.choice(maxval_indices)  # Randomly select one index from the list of indices with the highest estimated reward.\n",
    "            else:\n",
    "                random_choice = np.random.randint(n_actions)\n",
    "\n",
    "            # Generate reward from the testbed\n",
    "            Rn = np.random.normal(testbed[problem_index][random_choice], 1)\n",
    "            action_count[problem_index][random_choice] += 1\n",
    "            n = action_count[problem_index][random_choice]\n",
    "\n",
    "            # Update reward estimate using the incremental implementation of the simple average method\n",
    "            reward_estimates[problem_index][random_choice] += (Rn - reward_estimates[problem_index][random_choice]) / n\n",
    "\n",
    "            reward_sum_over_all_bandits_per_step += Rn\n",
    "\n",
    "            # Store terminal rewards\n",
    "            if step == steps - 1:\n",
    "                terminal_rewards[problem_index] = Rn\n",
    "\n",
    "            # Check if the optimal action was taken\n",
    "            optimal_action = np.argmax(testbed[problem_index])\n",
    "            if random_choice == optimal_action:\n",
    "                optimal_action_chosen_count += 1\n",
    "\n",
    "        avg_rewards_per_step.append(reward_sum_over_all_bandits_per_step / bandit_problems)\n",
    "        optimal_action_count[step] = optimal_action_chosen_count / bandit_problems\n",
    "\n",
    "    return avg_rewards_per_step, optimal_action_count, terminal_rewards\n",
    "\n"
   ]
  },
  {
   "cell_type": "markdown",
   "metadata": {
    "id": "3uk3WrTe2LLv"
   },
   "source": [
    "### Epsilon with decreasing step size"
   ]
  },
  {
   "cell_type": "code",
   "execution_count": 13,
   "metadata": {
    "id": "rs6THpi92Rsn"
   },
   "outputs": [],
   "source": [
    "import numpy as np\n",
    "import random\n",
    "import matplotlib.pyplot as plt\n",
    "\n",
    "def decreasing_epsilon_mean_reverting(steps, bandit_problems, n_actions, testbed, epsilon):\n",
    "    action_count = np.ones((bandit_problems, n_actions))\n",
    "    reward_estimates = np.zeros((bandit_problems, n_actions))  # initial reward estimates set to zero\n",
    "    avg_rewards_per_step = []\n",
    "    optimal_action_count = np.zeros(steps)\n",
    "    terminal_rewards = np.zeros(bandit_problems)  # Initialize terminal rewards array\n",
    "    initial_epsilon = epsilon\n",
    "\n",
    "    for step in range(steps):\n",
    "        reward_sum_over_all_bandits_per_step = 0\n",
    "        optimal_action_chosen_count = 0\n",
    "        testbed = 0.5*testbed + np.random.normal(0, 0.001, testbed.shape)\n",
    "\n",
    "        for problem_index in range(bandit_problems):\n",
    "            var_random = random.random()\n",
    "            if var_random > epsilon:\n",
    "                maxval = np.amax(reward_estimates[problem_index])  # Find the maximum value of the reward for that problem.\n",
    "                maxval_indices = np.ravel(np.where(reward_estimates[problem_index] == maxval))  # Get the index of that reward in the problem\n",
    "                random_choice = np.random.choice(maxval_indices)  # Randomly select one index from the list of indices with the highest estimated reward.\n",
    "            else:\n",
    "                random_choice = np.random.randint(n_actions)\n",
    "\n",
    "            # Generate reward from the testbed\n",
    "            Rn = np.random.normal(testbed[problem_index][random_choice], 1)\n",
    "            action_count[problem_index][random_choice] += 1\n",
    "            n = action_count[problem_index][random_choice]\n",
    "\n",
    "            # Update reward estimate using the incremental implementation of the simple average method\n",
    "            reward_estimates[problem_index][random_choice] += (Rn - reward_estimates[problem_index][random_choice]) / n\n",
    "\n",
    "            reward_sum_over_all_bandits_per_step += Rn\n",
    "\n",
    "            # Store terminal rewards\n",
    "            if step == steps - 1:\n",
    "                terminal_rewards[problem_index] = Rn\n",
    "\n",
    "            # Check if the optimal action was taken\n",
    "            optimal_action = np.argmax(testbed[problem_index])\n",
    "            if random_choice == optimal_action:\n",
    "                optimal_action_chosen_count += 1\n",
    "                \n",
    "        epsilon = initial_epsilon / (1+step)\n",
    "        avg_rewards_per_step.append(reward_sum_over_all_bandits_per_step / bandit_problems)\n",
    "        optimal_action_count[step] = optimal_action_chosen_count / bandit_problems\n",
    "\n",
    "    return avg_rewards_per_step, optimal_action_count, terminal_rewards\n",
    "\n"
   ]
  },
  {
   "cell_type": "markdown",
   "metadata": {
    "id": "Qd78MZ5KA9qt"
   },
   "source": [
    "### Plot function"
   ]
  },
  {
   "cell_type": "code",
   "execution_count": 14,
   "metadata": {
    "id": "1JItrBEZ56Qq"
   },
   "outputs": [],
   "source": [
    "def plots(title, average_reward_across_runs,optimal_action_percentage):\n",
    "  # Plotting\n",
    "  plt.figure(figsize=(12, 5))\n",
    "\n",
    "  # Plot average reward\n",
    "  plt.subplot(1, 2, 1)\n",
    "  plt.plot(average_reward_across_runs, label='Average Reward')\n",
    "  plt.xlabel('Steps')\n",
    "  plt.ylabel('Average Reward')\n",
    "  plt.title(title)\n",
    "  plt.legend()\n",
    "\n",
    "  # Plot percentage of optimal action\n",
    "  plt.subplot(1, 2, 2)\n",
    "  plt.plot(optimal_action_percentage, label='% Optimal Action')\n",
    "  plt.xlabel('Steps')\n",
    "  plt.ylabel('% Optimal Action')\n",
    "  plt.title('% Optimal Action vs. Steps')\n",
    "  plt.legend()\n",
    "\n",
    "  plt.tight_layout()\n",
    "  plt.show()"
   ]
  },
  {
   "cell_type": "markdown",
   "metadata": {
    "id": "80a688KJBBq8"
   },
   "source": [
    "### Plotting and results"
   ]
  },
  {
   "cell_type": "code",
   "execution_count": 16,
   "metadata": {
    "colab": {
     "base_uri": "https://localhost:8080/",
     "height": 579
    },
    "id": "thTKwYPI5woR",
    "outputId": "21b4470d-c626-4267-a0b5-ce3d63ab255f"
   },
   "outputs": [
    {
     "data": {
      "image/png": "[encoded data removed]",
      "text/plain": [
       "<Figure size 1000x800 with 1 Axes>"
      ]
     },
     "metadata": {},
     "output_type": "display_data"
    }
   ],
   "source": [
    "# Parameters\n",
    "steps = 10000\n",
    "bandit_problems = 1000\n",
    "n_actions = 10\n",
    "# Testbed: 1000 sets of ten mean parameters\n",
    "testbed = np.random.normal(0, 1, (bandit_problems, n_actions))\n",
    "global_reward_list = []\n",
    "global_optimal_action_list = []\n",
    "\n",
    "\n",
    "terminal_greedy=mean_reverting_greedy(steps, bandit_problems, n_actions, testbed, global_reward_list, global_optimal_action_list)\n",
    "# Average reward at each time step\n",
    "average_reward_across_runs = np.mean(global_reward_list, axis=0)\n",
    "# Percentage of time the optimal action is taken\n",
    "optimal_action_percentage = np.mean(global_optimal_action_list, axis=0) * 100\n",
    "# avg_rewards_incremental_greedy = average_reward_across_runs# for box plot\n",
    "\n",
    "# plots('Average Rewards per step using Incremental Greedy Approach for Drift Change', average_reward_across_runs, optimal_action_percentage)\n",
    "\n",
    "\n",
    "epsilon = 0.1\n",
    "# Testbed: 1000 sets of ten mean parameters\n",
    "testbed = np.random.normal(0, 1, (bandit_problems, n_actions))\n",
    "# calling the function for fixed step epsilon greedt\n",
    "avg_rewards_per_step, optimal_action_count, terminal_rewards_fixed = fixed_epsilon_mean_reverting(steps, bandit_problems, n_actions, testbed, epsilon)\n",
    "average_reward_across_runs = np.mean([avg_rewards_per_step], axis=0)\n",
    "avg_rewards_fixed_epsilon = average_reward_across_runs # for box plot\n",
    "\n",
    "optimal_action_percentage = np.mean([optimal_action_count], axis=0) * 100\n",
    "# plots('Average Rewards per step using Fixed Epsilon Greedy Approach for Drift Change', average_reward_across_runs, optimal_action_percentage)\n",
    "\n",
    "\n",
    "# Testbed: 1000 sets of ten mean parameters\n",
    "testbed = np.random.normal(0, 1, (bandit_problems, n_actions))\n",
    "# Percentage of time the optimal action is taken\n",
    "avg_rewards_per_step, optimal_action_count,terminal_rewards_decreasing = decreasing_epsilon_mean_reverting(steps, bandit_problems, n_actions, testbed, epsilon)\n",
    "\n",
    "average_reward_across_runs = np.mean([avg_rewards_per_step], axis=0)\n",
    "\n",
    "optimal_action_percentage = np.mean([optimal_action_count], axis=0) * 100\n",
    "# plots('Average Rewards per step using Decreasing step size epsilon for Drift Change', average_reward_across_runs, optimal_action_percentage)\n",
    "\n",
    "\n",
    "all_avg_rewards = [terminal_greedy, terminal_rewards_fixed, terminal_rewards_decreasing]\n",
    "\n",
    "# Prepare the data for seaborn\n",
    "methods = ['Incremental Greedy', 'Fixed Epsilon Greedy', 'Decreasing Epsilon']\n",
    "data = []\n",
    "\n",
    "for i, method in enumerate(methods):\n",
    "    for reward in all_avg_rewards[i]:\n",
    "        data.append((method, reward))\n",
    "\n",
    "# Convert to a DataFrame for seaborn\n",
    "import pandas as pd\n",
    "\n",
    "df = pd.DataFrame(data, columns=['Method', 'Reward'])\n",
    "\n",
    "# Plotting with seaborn\n",
    "plt.figure(figsize=(10, 8))\n",
    "sns.boxplot(x='Method', y='Reward', data=df, palette='Set2')\n",
    "# sns.stripplot(x='Method', y='Reward', data=df, color='black', alpha=0.5)\n",
    "\n",
    "# Customizations\n",
    "plt.title('Rewards at terminal step for different methods - Mean Reverting Change', fontsize=16)\n",
    "# plt.xlabel('Methods', fontsize=14)\n",
    "plt.ylabel('Reward', fontsize=14)\n",
    "plt.xticks(fontsize=12)\n",
    "plt.yticks(fontsize=12)\n",
    "plt.grid(True)\n",
    "\n",
    "plt.show()"
   ]
  },
  {
   "cell_type": "code",
   "execution_count": 18,
   "metadata": {},
   "outputs": [
    {
     "data": {
      "text/html": [
       "<div>\n",
       "<style scoped>\n",
       "    .dataframe tbody tr th:only-of-type {\n",
       "        vertical-align: middle;\n",
       "    }\n",
       "\n",
       "    .dataframe tbody tr th {\n",
       "        vertical-align: top;\n",
       "    }\n",
       "\n",
       "    .dataframe thead th {\n",
       "        text-align: right;\n",
       "    }\n",
       "</style>\n",
       "<table border=\"1\" class=\"dataframe\">\n",
       "  <thead>\n",
       "    <tr style=\"text-align: right;\">\n",
       "      <th></th>\n",
       "      <th>Reward</th>\n",
       "    </tr>\n",
       "    <tr>\n",
       "      <th>Method</th>\n",
       "      <th></th>\n",
       "    </tr>\n",
       "  </thead>\n",
       "  <tbody>\n",
       "    <tr>\n",
       "      <th>Decreasing Epsilon</th>\n",
       "      <td>0.021863</td>\n",
       "    </tr>\n",
       "    <tr>\n",
       "      <th>Fixed Epsilon Greedy</th>\n",
       "      <td>0.023860</td>\n",
       "    </tr>\n",
       "    <tr>\n",
       "      <th>Incremental Greedy</th>\n",
       "      <td>0.016885</td>\n",
       "    </tr>\n",
       "  </tbody>\n",
       "</table>\n",
       "</div>"
      ],
      "text/plain": [
       "                        Reward\n",
       "Method                        \n",
       "Decreasing Epsilon    0.021863\n",
       "Fixed Epsilon Greedy  0.023860\n",
       "Incremental Greedy    0.016885"
      ]
     },
     "execution_count": 18,
     "metadata": {},
     "output_type": "execute_result"
    }
   ],
   "source": [
    "mean_reverting_avg_performance = df.groupby('Method').mean()\n",
    "mean_reverting_avg_performance"
   ]
  }
 ],
 "metadata": {
  "colab": {
   "provenance": []
  },
  "kernelspec": {
   "display_name": "Python 3 (ipykernel)",
   "language": "python",
   "name": "python3"
  },
  "language_info": {
   "codemirror_mode": {
    "name": "ipython",
    "version": 3
   },
   "file_extension": ".py",
   "mimetype": "text/x-python",
   "name": "python",
   "nbconvert_exporter": "python",
   "pygments_lexer": "ipython3",
   "version": "3.11.5"
  }
 },
 "nbformat": 4,
 "nbformat_minor": 1
}
