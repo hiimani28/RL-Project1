{
 "cells": [
  {
   "cell_type": "code",
   "execution_count": 56,
   "metadata": {
    "id": "4v2p0lzKxH_F"
   },
   "outputs": [],
   "source": [
    "import random\n",
    "import seaborn as sns \n",
    "import pandas as pd\n",
    "import numpy as np\n",
    "import matplotlib.pyplot as plt"
   ]
  },
  {
   "cell_type": "markdown",
   "metadata": {
    "id": "50VtgK9Fw6LM"
   },
   "source": [
    "# Part - 2"
   ]
  },
  {
   "cell_type": "markdown",
   "metadata": {
    "id": "_MGbdPoTBJQy"
   },
   "source": [
    "### 2.1(a) Drift change - using optimistic greedy method "
   ]
  },
  {
   "cell_type": "code",
   "execution_count": 57,
   "metadata": {
    "id": "MlebIIZjw5R5"
   },
   "outputs": [],
   "source": [
    "def drift_change_greedy(steps, bandit_problems, n_actions, testbed, global_reward_list, global_optimal_action_list):\n",
    "    action_count = np.zeros((bandit_problems, n_actions)) #initial action_count \n",
    "    reward_estimates = np.ones((bandit_problems, n_actions)) * 5 # initial optimistic reward estimates \n",
    "    avg_rewards_per_step = []\n",
    "    optimal_action_count = np.zeros(steps)\n",
    "    terminal_rewards = np.zeros(bandit_problems)  # Initialize terminal rewards array\n",
    "\n",
    "    for step in range(steps):\n",
    "        reward_sum_over_all_bandits_per_step = 0\n",
    "        optimal_action_chosen_count = 0 \n",
    "\n",
    "        for problem_index in range(bandit_problems):\n",
    "            maxval = np.amax(reward_estimates[problem_index])  # Find the maximum value of the reward for that problem.\n",
    "            maxval_indices = np.ravel(np.where(reward_estimates[problem_index] == maxval))  # Get the index of that reward in the problem\n",
    "            random_choice = np.random.choice(maxval_indices)  # Randomly select one index from the list of indices with the highest estimated reward.\n",
    "\n",
    "            # Generate reward\n",
    "            Rn = np.random.normal(testbed[problem_index][random_choice], 1)\n",
    "            action_count[problem_index][random_choice] += 1\n",
    "            n = action_count[problem_index][random_choice]\n",
    "\n",
    "            # Update reward estimate using the incremental implementation of the simple average method\n",
    "            reward_estimates[problem_index][random_choice] = reward_estimates[problem_index][random_choice] + (Rn - reward_estimates[problem_index][random_choice]) / n\n",
    "\n",
    "            reward_sum_over_all_bandits_per_step += Rn\n",
    "\n",
    "            # Store terminal rewards\n",
    "            if step == steps - 1:\n",
    "                terminal_rewards[problem_index] = Rn\n",
    "\n",
    "            # Check if the optimal action was chosen\n",
    "            optimal_action = np.argmax(testbed[problem_index])\n",
    "            if random_choice == optimal_action:\n",
    "                optimal_action_chosen_count += 1\n",
    "\n",
    "        #Apply drift change        \n",
    "        testbed = testbed + np.random.normal(0, 0.001, testbed.shape) \n",
    "        #Add the average reward in each step to the array\n",
    "        avg_rewards_per_step.append(reward_sum_over_all_bandits_per_step / bandit_problems)\n",
    "        optimal_action_count[step] = optimal_action_chosen_count / bandit_problems\n",
    "\n",
    "    global_reward_list.append(avg_rewards_per_step)\n",
    "    global_optimal_action_list.append(optimal_action_count)\n",
    "    return terminal_rewards"
   ]
  },
  {
   "cell_type": "markdown",
   "metadata": {
    "id": "JRQcSCphBL2z"
   },
   "source": [
    "### 2.2(b) Drift change - using epsilon-greedy with fixed step_size"
   ]
  },
  {
   "cell_type": "code",
   "execution_count": 58,
   "metadata": {
    "id": "DOmlS8SPy440"
   },
   "outputs": [],
   "source": [
    "def fixed_epsilon_drift(steps, bandit_problems, n_actions, testbed, epsilon):\n",
    "    action_count = np.ones((bandit_problems, n_actions))\n",
    "    reward_estimates = np.zeros((bandit_problems, n_actions))  # initial reward estimates set to zero\n",
    "    avg_rewards_per_step = []\n",
    "    optimal_action_count = np.zeros(steps)\n",
    "    terminal_rewards = np.zeros(bandit_problems)  # Initialize terminal rewards array\n",
    "    step_size = 0.1 #fixed step_size \n",
    "\n",
    "    for step in range(steps):\n",
    "        reward_sum_over_all_bandits_per_step = 0\n",
    "        optimal_action_chosen_count = 0 \n",
    "\n",
    "        for problem_index in range(bandit_problems):\n",
    "            #Genarte a random number \n",
    "            var_random = random.random()\n",
    "            # Choose Greedy action if the random value is bigger than epsilon\n",
    "            if var_random > epsilon:\n",
    "                maxval = np.amax(reward_estimates[problem_index])  # Find the maximum value of the reward for that problem\n",
    "                maxval_indices = np.ravel(np.where(reward_estimates[problem_index] == maxval))  # Get the index of that reward in the problem\n",
    "                random_choice = np.random.choice(maxval_indices)  # Randomly select one index from the list of indices with the highest estimated reward\n",
    "            # Choose a random action from all the actions     \n",
    "            else:\n",
    "                random_choice = np.random.randint(n_actions)\n",
    "\n",
    "            # Generate reward from the testbed\n",
    "            Rn = np.random.normal(testbed[problem_index][random_choice], 1)\n",
    "            action_count[problem_index][random_choice] += 1\n",
    "            n = action_count[problem_index][random_choice]\n",
    "\n",
    "            # Update reward estimate \n",
    "            reward_estimates[problem_index][random_choice] = reward_estimates[problem_index][random_choice] + step_size * (Rn - reward_estimates[problem_index][random_choice])\n",
    "\n",
    "            reward_sum_over_all_bandits_per_step += Rn\n",
    "\n",
    "            # Store terminal rewards\n",
    "            if step == steps - 1:\n",
    "                terminal_rewards[problem_index] = Rn\n",
    "\n",
    "            # Check if the optimal action was taken\n",
    "            optimal_action = np.argmax(testbed[problem_index])\n",
    "            if random_choice == optimal_action:\n",
    "                optimal_action_chosen_count += 1\n",
    "\n",
    "        #Apply drift change    \n",
    "        testbed = testbed + np.random.normal(0, 0.001, testbed.shape) \n",
    "        #Add the average reward in each step to the array\n",
    "        avg_rewards_per_step.append(reward_sum_over_all_bandits_per_step / bandit_problems)\n",
    "        optimal_action_count[step] = optimal_action_chosen_count / bandit_problems\n",
    "\n",
    "    return avg_rewards_per_step, optimal_action_count, terminal_rewards"
   ]
  },
  {
   "cell_type": "markdown",
   "metadata": {
    "id": "3uk3WrTe2LLv"
   },
   "source": [
    "### 2.3(c) Drift change - using epsilon-greedy with a decreasing step_size"
   ]
  },
  {
   "cell_type": "code",
   "execution_count": 59,
   "metadata": {
    "id": "rs6THpi92Rsn"
   },
   "outputs": [],
   "source": [
    "def decreasing_epsilon_drift(steps, bandit_problems, n_actions, testbed, epsilon):\n",
    "    action_count = np.ones((bandit_problems, n_actions))\n",
    "    reward_estimates = np.zeros((bandit_problems, n_actions))  # initial reward estimates set to zero\n",
    "    avg_rewards_per_step = []\n",
    "    optimal_action_count = np.zeros(steps)\n",
    "    terminal_rewards = np.zeros(bandit_problems)  # Initialize terminal rewards array\n",
    "\n",
    "    for step in range(steps):\n",
    "        reward_sum_over_all_bandits_per_step = 0\n",
    "        optimal_action_chosen_count = 0\n",
    "\n",
    "        for problem_index in range(bandit_problems):\n",
    "            #Genarte a random number \n",
    "            var_random = random.random()\n",
    "            # Choose Greedy action if the random value is bigger than epsilon\n",
    "            if var_random > epsilon:\n",
    "                maxval = np.amax(reward_estimates[problem_index])  # Find the maximum value of the reward for that problem.\n",
    "                maxval_indices = np.ravel(np.where(reward_estimates[problem_index] == maxval))  # Get the index of that reward in the problem\n",
    "                random_choice = np.random.choice(maxval_indices)  # Randomly select one index from the list of indices with the highest estimated reward\n",
    "            # Choose a random action from all the actions \n",
    "            else:\n",
    "                random_choice = np.random.randint(n_actions)\n",
    "\n",
    "            # Generate reward from the testbed\n",
    "            Rn = np.random.normal(testbed[problem_index][random_choice], 1)\n",
    "            action_count[problem_index][random_choice] += 1\n",
    "            n = action_count[problem_index][random_choice]\n",
    "            \n",
    "            #Decrease the stepsize \n",
    "            step_size = 1/n \n",
    "\n",
    "            # Update reward estimate using the incremental implementation of the simple average method\n",
    "            reward_estimates[problem_index][random_choice] = reward_estimates[problem_index][random_choice] + step_size * (Rn - reward_estimates[problem_index][random_choice]) \n",
    "\n",
    "            reward_sum_over_all_bandits_per_step += Rn\n",
    "\n",
    "            # Store terminal rewards\n",
    "            if step == steps - 1:\n",
    "                terminal_rewards[problem_index] = Rn\n",
    "\n",
    "            # Check if the optimal action was taken\n",
    "            optimal_action = np.argmax(testbed[problem_index])\n",
    "            if random_choice == optimal_action:\n",
    "                optimal_action_chosen_count += 1\n",
    "\n",
    "        #Apply drift change \n",
    "        testbed = testbed + np.random.normal(0, 0.001, testbed.shape)  \n",
    "        avg_rewards_per_step.append(reward_sum_over_all_bandits_per_step / bandit_problems)\n",
    "        optimal_action_count[step] = optimal_action_chosen_count / bandit_problems\n",
    "\n",
    "    return avg_rewards_per_step, optimal_action_count, terminal_rewards"
   ]
  },
  {
   "cell_type": "markdown",
   "metadata": {
    "id": "80a688KJBBq8"
   },
   "source": [
    "### Visualization drift change using box-plot"
   ]
  },
  {
   "cell_type": "code",
   "execution_count": 60,
   "metadata": {
    "colab": {
     "base_uri": "https://localhost:8080/",
     "height": 564
    },
    "id": "thTKwYPI5woR",
    "outputId": "30900007-dbfa-4f76-a736-939d36039785"
   },
   "outputs": [
    {
     "data": {
      "image/png": "[encoded data removed]",
      "text/plain": [
       "<Figure size 1000x800 with 1 Axes>"
      ]
     },
     "metadata": {},
     "output_type": "display_data"
    }
   ],
   "source": [
    "steps = 10000\n",
    "bandit_problems = 1000\n",
    "n_actions = 10\n",
    "# Testbed: 1000 sets of ten mean parameters\n",
    "testbed = np.random.normal(0, 1, (bandit_problems, n_actions))\n",
    "global_reward_list = []\n",
    "global_optimal_action_list = []\n",
    "\n",
    "\n",
    "terminal_greedy=drift_change_greedy(steps, bandit_problems, n_actions, testbed, global_reward_list, global_optimal_action_list)\n",
    "# Average reward at each time step\n",
    "average_reward_across_runs = np.mean(global_reward_list, axis=0)\n",
    "# Percentage of time the optimal action is taken\n",
    "optimal_action_percentage = np.mean(global_optimal_action_list, axis=0) * 100\n",
    "\n",
    "epsilon = 0.1\n",
    "# Testbed: 1000 sets of ten mean parameters\n",
    "testbed = np.random.normal(0, 1, (bandit_problems, n_actions))\n",
    "# calling the function for fixed step epsilon greedt\n",
    "avg_rewards_per_step, optimal_action_count, terminal_rewards_fixed = fixed_epsilon_drift(steps, bandit_problems, n_actions, testbed, epsilon)\n",
    "average_reward_across_runs = np.mean([avg_rewards_per_step], axis=0)\n",
    "avg_rewards_fixed_epsilon = average_reward_across_runs # for box plot\n",
    "\n",
    "optimal_action_percentage = np.mean([optimal_action_count], axis=0) * 100\n",
    "\n",
    "# Testbed: 1000 sets of ten mean parameters\n",
    "testbed = np.random.normal(0, 1, (bandit_problems, n_actions))\n",
    "\n",
    "all_avg_rewards = [terminal_greedy, terminal_rewards_fixed, terminal_rewards_decreasing]\n",
    "\n",
    "methods = ['Optimistic Greedy', 'Epsilon with \\n fixed step size', 'Epsilon with \\n decreasing step size']\n",
    "data = []\n",
    "\n",
    "for i, method in enumerate(methods):\n",
    "    for reward in all_avg_rewards[i]:\n",
    "        data.append((method, reward))\n",
    "\n",
    "df = pd.DataFrame(data, columns=['Method', 'Reward'])\n",
    "\n",
    "plt.figure(figsize=(10, 8))\n",
    "sns.boxplot(x='Method', y='Reward', data=df, palette='Set2')\n",
    "\n",
    "# Customizations\n",
    "plt.title('Rewards at terminal step for different methods - Drift Change', fontsize=16)\n",
    "# plt.xlabel('Methods', fontsize=14)\n",
    "plt.ylabel('Reward', fontsize=14)\n",
    "plt.xticks(fontsize=12)\n",
    "plt.yticks(fontsize=12)\n",
    "plt.grid(True)\n",
    "\n",
    "plt.show()"
   ]
  },
  {
   "cell_type": "code",
   "execution_count": null,
   "metadata": {},
   "outputs": [],
   "source": []
  }
 ],
 "metadata": {
  "colab": {
   "provenance": []
  },
  "kernelspec": {
   "display_name": "Python 3 (ipykernel)",
   "language": "python",
   "name": "python3"
  },
  "language_info": {
   "codemirror_mode": {
    "name": "ipython",
    "version": 3
   },
   "file_extension": ".py",
   "mimetype": "text/x-python",
   "name": "python",
   "nbconvert_exporter": "python",
   "pygments_lexer": "ipython3",
   "version": "3.11.5"
  }
 },
 "nbformat": 4,
 "nbformat_minor": 1
}
